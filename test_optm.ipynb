{
 "cells": [
  {
   "cell_type": "code",
   "execution_count": 1,
   "metadata": {},
   "outputs": [],
   "source": [
    "from impf import optm\n",
    "import math"
   ]
  },
  {
   "cell_type": "markdown",
   "metadata": {},
   "source": [
    "## Problem 1"
   ]
  },
  {
   "cell_type": "code",
   "execution_count": 2,
   "metadata": {},
   "outputs": [
    {
     "data": {
      "text/plain": [
       "max  [3.0, 2.0]\n",
       "s.t.\n",
       "     [1.0, 1.0] <= 9.0\n",
       "     [3.0, 1.0] <= 18.0\n",
       "     [1.0, 0.0] <= 7.0\n",
       "     [0.0, 1.0] <= 6.0\n",
       "     0 <= x0 <= inf\n",
       "     0 <= x1 <= inf"
      ]
     },
     "execution_count": 2,
     "metadata": {},
     "output_type": "execute_result"
    }
   ],
   "source": [
    "prob_1_obj = optm.LinearObjective([3, 2], 'max')\n",
    "\n",
    "prob_1_cons_1 = optm.LinearConstraint([1, 1], '<=', 9)\n",
    "prob_1_cons_2 = optm.LinearConstraint([3, 1], '<=', 18)\n",
    "prob_1_cons_3 = optm.LinearConstraint([1, 0], '<=', 7)\n",
    "prob_1_cons_4 = optm.LinearConstraint([0, 1], '<=', 6)\n",
    "\n",
    "prob_1_constraints = [prob_1_cons_1, prob_1_cons_2, prob_1_cons_3, prob_1_cons_4]\n",
    "prob_1_bounds = [(0, math.inf), (0, math.inf)]\n",
    "prob_1 = optm.LinearProgramming(prob_1_obj, prob_1_constraints, prob_1_bounds)\n",
    "prob_1"
   ]
  },
  {
   "cell_type": "code",
   "execution_count": 3,
   "metadata": {},
   "outputs": [
    {
     "data": {
      "text/plain": [
       "({'x': [4.5, 4.499999999999999], 'state': 'Success'}, 22.5)"
      ]
     },
     "execution_count": 3,
     "metadata": {},
     "output_type": "execute_result"
    }
   ],
   "source": [
    "re = prob_1.solve()\n",
    "re, prob_1.obj.get_value(re['x'])"
   ]
  },
  {
   "cell_type": "markdown",
   "metadata": {},
   "source": [
    "## Problem 2"
   ]
  },
  {
   "cell_type": "code",
   "execution_count": 4,
   "metadata": {},
   "outputs": [
    {
     "data": {
      "text/plain": [
       "max  [3.0, 4.0]\n",
       "s.t.\n",
       "     [1.0, 2.0] <= 14.0\n",
       "     [3.0, -1.0] >= 0.0\n",
       "     [1.0, -1.0] <= 2.0\n",
       "     0 <= x0 <= inf\n",
       "     0 <= x1 <= inf"
      ]
     },
     "execution_count": 4,
     "metadata": {},
     "output_type": "execute_result"
    }
   ],
   "source": [
    "prob_2_obj = optm.LinearObjective([3, 4], 'max')\n",
    "\n",
    "prob_2_cons_1 = optm.LinearConstraint([1, 2], '<=', 14)\n",
    "prob_2_cons_2 = optm.LinearConstraint([3, -1], '>=', 0)\n",
    "prob_2_cons_3 = optm.LinearConstraint([1, -1], '<=', 2)\n",
    "\n",
    "prob_2_constraints = [prob_2_cons_1, prob_2_cons_2, prob_2_cons_3]\n",
    "prob_2_bounds = [(0, math.inf), (0, math.inf)]\n",
    "prob_2 = optm.LinearProgramming(prob_2_obj, prob_2_constraints, prob_2_bounds)\n",
    "prob_2"
   ]
  },
  {
   "cell_type": "code",
   "execution_count": 5,
   "metadata": {},
   "outputs": [
    {
     "data": {
      "text/plain": [
       "({'x': [6.0, 4.0], 'state': 'Success'}, 34.0)"
      ]
     },
     "execution_count": 5,
     "metadata": {},
     "output_type": "execute_result"
    }
   ],
   "source": [
    "re = prob_2.solve()\n",
    "re, prob_2.obj.get_value(re['x'])"
   ]
  },
  {
   "cell_type": "markdown",
   "metadata": {},
   "source": [
    "## Netlib Cases"
   ]
  },
  {
   "cell_type": "code",
   "execution_count": null,
   "metadata": {},
   "outputs": [],
   "source": []
  }
 ],
 "metadata": {
  "kernelspec": {
   "display_name": "Python 3",
   "language": "python",
   "name": "python3"
  },
  "language_info": {
   "codemirror_mode": {
    "name": "ipython",
    "version": 3
   },
   "file_extension": ".py",
   "mimetype": "text/x-python",
   "name": "python",
   "nbconvert_exporter": "python",
   "pygments_lexer": "ipython3",
   "version": "3.9.6"
  }
 },
 "nbformat": 4,
 "nbformat_minor": 2
}
