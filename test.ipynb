{
 "cells": [
  {
   "cell_type": "code",
   "execution_count": 7,
   "metadata": {},
   "outputs": [],
   "source": [
    "from impf import optm"
   ]
  },
  {
   "cell_type": "code",
   "execution_count": 2,
   "metadata": {},
   "outputs": [],
   "source": [
    "obj = optm.LinearObjective([3, 2], 'max')\n",
    "\n",
    "constraint_1 = optm.LinearConstraint([1, 1], '<=', 9)\n",
    "constraint_2 = optm.LinearConstraint([3, 1], '<=', 18)\n",
    "constraint_3 = optm.LinearConstraint([1, 0], '<=', 7)\n",
    "constraint_4 = optm.LinearConstraint([0, 1], '<=', 6)\n",
    "\n",
    "constraints = [constraint_1, constraint_2, constraint_3, constraint_4]"
   ]
  },
  {
   "cell_type": "code",
   "execution_count": 3,
   "metadata": {},
   "outputs": [
    {
     "data": {
      "text/plain": [
       "max  [3.0, 2.0]\n",
       "s.t.\n",
       "     [1.0, 1.0] <= 9.0\n",
       "     [3.0, 1.0] <= 18.0\n",
       "     [1.0, 0.0] <= 7.0\n",
       "     [0.0, 1.0] <= 6.0"
      ]
     },
     "execution_count": 3,
     "metadata": {},
     "output_type": "execute_result"
    }
   ],
   "source": [
    "prob = optm.LinearProgramming(obj, constraints)\n",
    "prob"
   ]
  },
  {
   "cell_type": "code",
   "execution_count": 6,
   "metadata": {},
   "outputs": [
    {
     "data": {
      "text/plain": [
       "[4.5, 4.499999999999999]"
      ]
     },
     "execution_count": 6,
     "metadata": {},
     "output_type": "execute_result"
    }
   ],
   "source": [
    "prob.solve()"
   ]
  }
 ],
 "metadata": {
  "kernelspec": {
   "display_name": "Python 3",
   "language": "python",
   "name": "python3"
  },
  "language_info": {
   "codemirror_mode": {
    "name": "ipython",
    "version": 3
   },
   "file_extension": ".py",
   "mimetype": "text/x-python",
   "name": "python",
   "nbconvert_exporter": "python",
   "pygments_lexer": "ipython3",
   "version": "3.9.6"
  }
 },
 "nbformat": 4,
 "nbformat_minor": 2
}
