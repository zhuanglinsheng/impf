{
 "cells": [
  {
   "cell_type": "code",
   "execution_count": 1,
   "metadata": {},
   "outputs": [],
   "source": [
    "from impf import expr"
   ]
  },
  {
   "cell_type": "code",
   "execution_count": 2,
   "metadata": {},
   "outputs": [
    {
     "data": {
      "text/plain": [
       "[x1, x2, x3, x4]"
      ]
     },
     "execution_count": 2,
     "metadata": {},
     "output_type": "execute_result"
    }
   ],
   "source": [
    "var_x1 = expr.ScalarVariable('x1')\n",
    "var_x2 = expr.ScalarVariable('x2')\n",
    "var_x3 = expr.ScalarVariable('x3')\n",
    "var_x4 = expr.ScalarVariable('x4')\n",
    "\n",
    "var_pool = [var_x1, var_x2, var_x3, var_x4]\n",
    "var_pool"
   ]
  },
  {
   "cell_type": "code",
   "execution_count": 3,
   "metadata": {},
   "outputs": [
    {
     "data": {
      "text/plain": [
       "x1 * x2"
      ]
     },
     "execution_count": 3,
     "metadata": {},
     "output_type": "execute_result"
    }
   ],
   "source": [
    "myexpr_1 = var_x1 * var_x2\n",
    "myexpr_1"
   ]
  },
  {
   "cell_type": "code",
   "execution_count": 4,
   "metadata": {},
   "outputs": [
    {
     "name": "stdout",
     "output_type": "stream",
     "text": [
      "4.0 * (x1 + 3.0) - x3 + x4 * (1.0 + 1.5)\n"
     ]
    },
    {
     "data": {
      "text/plain": [
       "([4.0, 0.0, -1.0, 2.5], 12.0)"
      ]
     },
     "execution_count": 4,
     "metadata": {},
     "output_type": "execute_result"
    }
   ],
   "source": [
    "myexpr_2 = 4 * (var_x1 + 3) - var_x3 + var_x4 * (1 + expr.ScalarConstant(1.5))\n",
    "myexpr_2_linear = expr.LinearExpression(myexpr_2)\n",
    "print(myexpr_2_linear)\n",
    "myexpr_2_linear.tranform(var_pool)"
   ]
  }
 ],
 "metadata": {
  "kernelspec": {
   "display_name": "Python 3",
   "language": "python",
   "name": "python3"
  },
  "language_info": {
   "codemirror_mode": {
    "name": "ipython",
    "version": 3
   },
   "file_extension": ".py",
   "mimetype": "text/x-python",
   "name": "python",
   "nbconvert_exporter": "python",
   "pygments_lexer": "ipython3",
   "version": "3.9.6"
  }
 },
 "nbformat": 4,
 "nbformat_minor": 2
}
